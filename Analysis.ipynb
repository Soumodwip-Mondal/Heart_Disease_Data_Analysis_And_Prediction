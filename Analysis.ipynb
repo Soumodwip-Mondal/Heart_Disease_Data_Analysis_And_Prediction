{
 "cells": [
  {
   "cell_type": "markdown",
   "id": "4abe804b",
   "metadata": {},
   "source": [
    "#####  Analysis of patient's(Heart) data:"
   ]
  },
  {
   "cell_type": "markdown",
   "id": "907226f9",
   "metadata": {},
   "source": [
    "The project is breifly about the analysis of heart disease data. The dataset is taken from kaggel. The dataset contains 914 instances and 12 attributes. The attributes- _Age, Sex, ChestPainType, RestingBP, Cholesterol, FastingBS, RestingECG, MaxHR, ExerciseAngina, Oldpeak, ST_Slope, HeartDisease_.\n",
    "The dataset is used to predict whether a patient has heart disease or not. The analysis includes data preprocessing, exploratory data analysis, and building machine learning models to predict heart disease."
   ]
  },
  {
   "cell_type": "code",
   "execution_count": 51,
   "id": "49cbb39f",
   "metadata": {},
   "outputs": [],
   "source": [
    "#importing the librearies\n",
    "import numpy as np\n",
    "import pandas as pd \n",
    "import seaborn as sns\n",
    "import matplotlib.pyplot as plt"
   ]
  },
  {
   "cell_type": "code",
   "execution_count": 52,
   "id": "30394e4b",
   "metadata": {},
   "outputs": [
    {
     "data": {
      "text/html": [
       "<div>\n",
       "<style scoped>\n",
       "    .dataframe tbody tr th:only-of-type {\n",
       "        vertical-align: middle;\n",
       "    }\n",
       "\n",
       "    .dataframe tbody tr th {\n",
       "        vertical-align: top;\n",
       "    }\n",
       "\n",
       "    .dataframe thead th {\n",
       "        text-align: right;\n",
       "    }\n",
       "</style>\n",
       "<table border=\"1\" class=\"dataframe\">\n",
       "  <thead>\n",
       "    <tr style=\"text-align: right;\">\n",
       "      <th></th>\n",
       "      <th>Age</th>\n",
       "      <th>Sex</th>\n",
       "      <th>ChestPainType</th>\n",
       "      <th>RestingBP</th>\n",
       "      <th>Cholesterol</th>\n",
       "      <th>FastingBS</th>\n",
       "      <th>RestingECG</th>\n",
       "      <th>MaxHR</th>\n",
       "      <th>ExerciseAngina</th>\n",
       "      <th>Oldpeak</th>\n",
       "      <th>ST_Slope</th>\n",
       "      <th>HeartDisease</th>\n",
       "    </tr>\n",
       "  </thead>\n",
       "  <tbody>\n",
       "    <tr>\n",
       "      <th>0</th>\n",
       "      <td>40</td>\n",
       "      <td>M</td>\n",
       "      <td>ATA</td>\n",
       "      <td>140</td>\n",
       "      <td>289</td>\n",
       "      <td>0</td>\n",
       "      <td>Normal</td>\n",
       "      <td>172</td>\n",
       "      <td>N</td>\n",
       "      <td>0.0</td>\n",
       "      <td>Up</td>\n",
       "      <td>0</td>\n",
       "    </tr>\n",
       "    <tr>\n",
       "      <th>1</th>\n",
       "      <td>49</td>\n",
       "      <td>F</td>\n",
       "      <td>NAP</td>\n",
       "      <td>160</td>\n",
       "      <td>180</td>\n",
       "      <td>0</td>\n",
       "      <td>Normal</td>\n",
       "      <td>156</td>\n",
       "      <td>N</td>\n",
       "      <td>1.0</td>\n",
       "      <td>Flat</td>\n",
       "      <td>1</td>\n",
       "    </tr>\n",
       "    <tr>\n",
       "      <th>2</th>\n",
       "      <td>37</td>\n",
       "      <td>M</td>\n",
       "      <td>ATA</td>\n",
       "      <td>130</td>\n",
       "      <td>283</td>\n",
       "      <td>0</td>\n",
       "      <td>ST</td>\n",
       "      <td>98</td>\n",
       "      <td>N</td>\n",
       "      <td>0.0</td>\n",
       "      <td>Up</td>\n",
       "      <td>0</td>\n",
       "    </tr>\n",
       "    <tr>\n",
       "      <th>3</th>\n",
       "      <td>48</td>\n",
       "      <td>F</td>\n",
       "      <td>ASY</td>\n",
       "      <td>138</td>\n",
       "      <td>214</td>\n",
       "      <td>0</td>\n",
       "      <td>Normal</td>\n",
       "      <td>108</td>\n",
       "      <td>Y</td>\n",
       "      <td>1.5</td>\n",
       "      <td>Flat</td>\n",
       "      <td>1</td>\n",
       "    </tr>\n",
       "    <tr>\n",
       "      <th>4</th>\n",
       "      <td>54</td>\n",
       "      <td>M</td>\n",
       "      <td>NAP</td>\n",
       "      <td>150</td>\n",
       "      <td>195</td>\n",
       "      <td>0</td>\n",
       "      <td>Normal</td>\n",
       "      <td>122</td>\n",
       "      <td>N</td>\n",
       "      <td>0.0</td>\n",
       "      <td>Up</td>\n",
       "      <td>0</td>\n",
       "    </tr>\n",
       "  </tbody>\n",
       "</table>\n",
       "</div>"
      ],
      "text/plain": [
       "   Age Sex ChestPainType  RestingBP  Cholesterol  FastingBS RestingECG  MaxHR  \\\n",
       "0   40   M           ATA        140          289          0     Normal    172   \n",
       "1   49   F           NAP        160          180          0     Normal    156   \n",
       "2   37   M           ATA        130          283          0         ST     98   \n",
       "3   48   F           ASY        138          214          0     Normal    108   \n",
       "4   54   M           NAP        150          195          0     Normal    122   \n",
       "\n",
       "  ExerciseAngina  Oldpeak ST_Slope  HeartDisease  \n",
       "0              N      0.0       Up             0  \n",
       "1              N      1.0     Flat             1  \n",
       "2              N      0.0       Up             0  \n",
       "3              Y      1.5     Flat             1  \n",
       "4              N      0.0       Up             0  "
      ]
     },
     "execution_count": 52,
     "metadata": {},
     "output_type": "execute_result"
    }
   ],
   "source": [
    "df=pd.read_csv('heart.csv')\n",
    "df.head(5)"
   ]
  },
  {
   "cell_type": "code",
   "execution_count": 53,
   "id": "0f7f5720",
   "metadata": {},
   "outputs": [
    {
     "data": {
      "text/plain": [
       "Age                 int64\n",
       "Sex                object\n",
       "ChestPainType      object\n",
       "RestingBP           int64\n",
       "Cholesterol         int64\n",
       "FastingBS           int64\n",
       "RestingECG         object\n",
       "MaxHR               int64\n",
       "ExerciseAngina     object\n",
       "Oldpeak           float64\n",
       "ST_Slope           object\n",
       "HeartDisease        int64\n",
       "dtype: object"
      ]
     },
     "execution_count": 53,
     "metadata": {},
     "output_type": "execute_result"
    }
   ],
   "source": [
    "df.dtypes"
   ]
  },
  {
   "cell_type": "markdown",
   "id": "34f7053e",
   "metadata": {},
   "source": [
    "Here the categorical featureas are _Sex,CHestPainType,RestingECG,ExerciseAngina,ST_Slope,HeartDisease_ and the numerical features are _Age,RestingBP,Cholesterol,FastingBS,MaxHR,Oldpeak_.\n",
    "In the dataset all the categorical features has object datatype except _HeartDisease_ which has int datatype. The numerical features has int or float datatype."
   ]
  },
  {
   "cell_type": "markdown",
   "id": "a1223f85",
   "metadata": {},
   "source": [
    "##### Data Cleaning"
   ]
  },
  {
   "cell_type": "code",
   "execution_count": 54,
   "id": "385542b4",
   "metadata": {},
   "outputs": [
    {
     "name": "stdout",
     "output_type": "stream",
     "text": [
      "Age               0\n",
      "Sex               0\n",
      "ChestPainType     0\n",
      "RestingBP         0\n",
      "Cholesterol       0\n",
      "FastingBS         0\n",
      "RestingECG        0\n",
      "MaxHR             0\n",
      "ExerciseAngina    0\n",
      "Oldpeak           0\n",
      "ST_Slope          0\n",
      "HeartDisease      0\n",
      "dtype: int64\n"
     ]
    }
   ],
   "source": [
    "\n",
    "#Checking the data conrtains null value\n",
    "print(df.isnull().sum())\n"
   ]
  },
  {
   "cell_type": "code",
   "execution_count": 55,
   "id": "71143492",
   "metadata": {},
   "outputs": [],
   "source": [
    "def max_val(val):\n",
    "    return df[val].max()"
   ]
  },
  {
   "cell_type": "code",
   "execution_count": 56,
   "id": "ba4e91e4",
   "metadata": {},
   "outputs": [],
   "source": [
    "def min_val(val):\n",
    "    return df[val].min()"
   ]
  },
  {
   "cell_type": "code",
   "execution_count": 57,
   "id": "569e99c6",
   "metadata": {},
   "outputs": [
    {
     "name": "stdout",
     "output_type": "stream",
     "text": [
      "Maximum value of Age is 77 and Minimum value is 28\n",
      "Maximum value of RestingBP is 200 and Minimum value is 0\n",
      "Maximum value of Cholesterol level is 603 and Minimum value is 0\n",
      "Maximum value of FastingBS is 1 and Minimum value is 0\n",
      "Maximum value of MaxHR is 202 and Minimum value is 60\n",
      "Maximum value of Oldpeak is 6.2 and Minimum value is -2.6\n"
     ]
    }
   ],
   "source": [
    "#So there is no null value\n",
    "#We will check the maximum and minimum values of each numerical feaures\n",
    "print(f\"Maximum value of Age is {max_val('Age')} and Minimum value is {min_val('Age')}\")\n",
    "print(f\"Maximum value of RestingBP is {max_val('RestingBP')} and Minimum value is {min_val('RestingBP')}\")\n",
    "print(f\"Maximum value of Cholesterol level is {max_val('Cholesterol')} and Minimum value is {min_val('Cholesterol')}\")\n",
    "print(f\"Maximum value of FastingBS is {max_val('FastingBS')} and Minimum value is {min_val('FastingBS')}\")\n",
    "print(f\"Maximum value of MaxHR is {max_val('MaxHR')} and Minimum value is {min_val('MaxHR')}\")\n",
    "print(f\"Maximum value of Oldpeak is {max_val('Oldpeak')} and Minimum value is {min_val('Oldpeak')}\")"
   ]
  },
  {
   "cell_type": "markdown",
   "id": "71cd3a5f",
   "metadata": {},
   "source": [
    "From the maximum and munimum values  of the numerical features, We can see theat there are some value problem in our dataset. The _RestingBP_, _Cholesterol_,_MaxHR_ has minimum value of 0 which is not possible. The _Oldpeak_ has minimum value of -2.6 which is not possible. So, we have options to either remove those rows or replae them with the mean or median of the respective columns. Since, the dataset is not too large, we will replace those values with the median of the respective columns."
   ]
  },
  {
   "cell_type": "code",
   "execution_count": 58,
   "id": "0cc56cd0",
   "metadata": {},
   "outputs": [],
   "source": [
    "median_bp = df[df['RestingBP'] != 0]['RestingBP'].median()\n",
    "median_cholesterol=df[df['Cholesterol']!=0]['Cholesterol'].median();\n",
    "median_hr = df[df['MaxHR'] != 0]['MaxHR'].median()\n",
    "median_oldpeak = df[df['Oldpeak'] >= 0]['Oldpeak'].median()\n",
    "df['RestingBP']=df['RestingBP'].replace(0,median_bp);\n",
    "df['Cholesterol']=df['Cholesterol'].replace(0,median_cholesterol);\n",
    "df['MaxHR']=df['MaxHR'].replace(0,median_hr);\n",
    "df['Oldpeak']=df['Oldpeak'].apply(lambda x:median_oldpeak if x<0 else x )"
   ]
  },
  {
   "cell_type": "code",
   "execution_count": 60,
   "id": "e1e15a55",
   "metadata": {},
   "outputs": [
    {
     "name": "stdout",
     "output_type": "stream",
     "text": [
      "80 85 0.0\n"
     ]
    }
   ],
   "source": [
    "#test the min's\n",
    "print(min_val('RestingBP'),min_val('Cholesterol'),min_val('Oldpeak'))\n"
   ]
  },
  {
   "cell_type": "code",
   "execution_count": null,
   "id": "fb37acb7",
   "metadata": {},
   "outputs": [],
   "source": []
  }
 ],
 "metadata": {
  "kernelspec": {
   "display_name": "Python 3",
   "language": "python",
   "name": "python3"
  },
  "language_info": {
   "codemirror_mode": {
    "name": "ipython",
    "version": 3
   },
   "file_extension": ".py",
   "mimetype": "text/x-python",
   "name": "python",
   "nbconvert_exporter": "python",
   "pygments_lexer": "ipython3",
   "version": "3.11.4"
  }
 },
 "nbformat": 4,
 "nbformat_minor": 5
}
